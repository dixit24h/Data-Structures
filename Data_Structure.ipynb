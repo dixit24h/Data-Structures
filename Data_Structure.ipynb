{
  "nbformat": 4,
  "nbformat_minor": 0,
  "metadata": {
    "colab": {
      "provenance": []
    },
    "kernelspec": {
      "name": "python3",
      "display_name": "Python 3"
    },
    "language_info": {
      "name": "python"
    }
  },
  "cells": [
    {
      "cell_type": "markdown",
      "source": [
        "1. What are data structures, and why are they important?\n",
        "-  Data structures are the way of organizing and storing the data so that it can be accessed and manipulated efficiently.\n",
        "\n",
        "2.  Explain the difference between mutable and immutable data types with examples?\n",
        "-  Mutable data types are those in which we can do changes after creation like adding element or removing, e.g. list, sets, dictionary.\n",
        "-  Immutable data types are those in which we can not do changes in the values, e.g. tuple, string.\n",
        "\n",
        "3. What are the main differences between lists and tuples in Python?\n",
        "-  In list, we can do changes in the values after creation as they are mutable while tuples are immutable so we cannot do changes in the values of tuples.\n",
        "-  For list, we use square brackets[] while for tuples, we use parenthesis().\n",
        "-  tuples use less memory and are faster to access than the lists.\n",
        "\n",
        "4. Describe how dictionaries store data.\n",
        "-  Dictionaries store data in form of key:value pairs.\n",
        "-  As of python version 3.7, dictionary stores data in ordered sequence and do not allow any duplicates.\n",
        "\n",
        "5.  Why might you use a set instead of a list in Python?\n",
        "-  we use set over list because set stores only unique elements.\n",
        "-  Sets provide built in function for mathematical set operations like union, intersection, difference and symmetric difference.\n",
        "\n",
        "6. What is a string in Python, and how is it different from a list?\n",
        "A string is a sequence of characters between single or double quotes while a list is a sequence of items where each item could anything like a float, an integer, a string etc.\n",
        "\n"
      ],
      "metadata": {
        "id": "H7HknnbUQEk4"
      }
    },
    {
      "cell_type": "code",
      "execution_count": null,
      "metadata": {
        "id": "eSmDkaudP_0O"
      },
      "outputs": [],
      "source": []
    }
  ]
}